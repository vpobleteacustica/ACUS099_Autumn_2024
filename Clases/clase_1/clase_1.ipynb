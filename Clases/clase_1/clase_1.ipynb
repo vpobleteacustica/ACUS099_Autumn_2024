{
 "cells": [
  {
   "cell_type": "markdown",
   "metadata": {},
   "source": [
    "<h1 style=\"text-align:center\">Clase 1: Introducción al ambiente de trabajo </h1>\n",
    "<h3 style=\"text-align:center\">ACUS099: Procesamiento digital de señales</h3>\n",
    "<p style=\"text-align:center\">Dr. Víctor Poblete <br>\n",
    "<a href=\"mailto:vpoblete@uach.cl\">vpoblete@uach.cl</a><br>\n",
    "<p style=\"text-align:center\">Esteban Vargas <br>\n",
    "<a href=\"mailto:vpoblete@uach.cl\">esteban.vargas01@alumnos.uach.cl</a><br><br>\n",
    "<a href=\"https://github.com/vpobleteacustica/ACUS099_Autumn_2024\">https://github.com/vpobleteacustica/ACUS099_Autumn_2024</a><br> \n",
    "<a href=\"http://www.acusticauach.cl\">www.acusticauach.cl</a><br>\n",
    "<a href=\"http://www.aumilab.cl\">www.aumilab.cl</a><br>"
   ]
  },
  {
   "cell_type": "markdown",
   "metadata": {},
   "source": [
    "## Indice \n",
    "+ [Python](#id1)\n",
    "    - [IPython](#id11)\n",
    "+ [Jupyter Notebook](#id2)\n",
    "    - [Celdas](#id21)\n",
    "    - [Celda de texto enriquecido en markdown](#id22)\n",
    "    - [En celda de código importando dinamicamente librerias](#id23)\n",
    "+ [Windows](#id3)\n",
    "    - [Python](#id31)\n",
    "    - [Jupyter Notebook](#id32)\n",
    "+ [Mac](#id4)\n",
    "    - [Python](#id41)\n",
    "    - [Jupyter Notebook](#id42)\n",
    "+ [Ubuntu](#id5)\n",
    "    - [Python](#id51)\n",
    "    - [Jupyter Notebook](#id52)\n",
    "+ [Bibliografía](#id6)\n",
    "+ [Archivo de Python](#id8)\n",
    "+ [Módulos](#id9)"
   ]
  },
  {
   "cell_type": "markdown",
   "metadata": {},
   "source": [
    "## 1. Python<a name='id1'></a>.\n",
    "Python es un lenguaje de programación poderoso y fácil de aprender. Cuenta con estructuras de datos eficientes y de alto nivel y un enfoque simple pero efectivo a la programación orientada a objetos. La elegante sintaxis de Python y su tipado dinámico, junto con su naturaleza interpretada, hacen de éste un lenguaje ideal para scripting y desarrollo rápido de aplicaciones en diversas áreas y sobre la mayoría de las plataformas. Python además, es rico en librerías abiertas para computo científico: *[Numpy](http://www.numpy.org/)*, *[Scipy](https://www.scipy.org/)*, *Pandas*, y muchas más.\n",
    "\n",
    "Para esta asignatura se utilizará versiones >= 3.7.4 como lenguaje oficial."
   ]
  },
  {
   "cell_type": "markdown",
   "metadata": {},
   "source": [
    "## 1.1 IPython<a name='id11'></a>.\n",
    "+ Es una interfaz para Python mejorada.\n",
    "\n",
    "+ Interactive Python, o IPython, es un intérprete de Python que que incluye mejoras tales como autocompletación de path y módulos, acceso desde terminal a documentación y código fuente, así como también búsqueda histórica de comandos.\n",
    "\n",
    "+ IPython puede usarse desde terminal, o como notebook mediante **Jupyter.**"
   ]
  },
  {
   "cell_type": "markdown",
   "metadata": {},
   "source": [
    "***\n",
    "\n",
    "## 2. Jupyter Notebook<a name='id2'></a>.\n",
    "\n",
    "Jupyter Notebook (anteriormente IPython Notebooks) es un entorno informático interactivo basado en la web para crear documentos de Jupyter notebook. El término \"notebook\" puede hacer referencia coloquialmente a muchas entidades diferentes, principalmente la aplicación web Jupyter, el servidor web Jupyter Python o el formato de documento Jupyter según el contexto. Un documento de Jupyter Notebook es un documento que sigue un esquema versionado y que contiene una lista ordenada de celdas de entrada/salida que pueden contener código(usando Python en esta situacion), texto (usando Markdown), matemáticas(usando Latex), gráficos y texto enriquecidos, generalmente terminado con la extensión \".ipynb\".\n",
    "\n",
    "### Notebook nuevo:\n",
    "+ Cuando creamos un notebook nuevo, debemos tener presente que un notebook está organizado en celdas. "
   ]
  },
  {
   "cell_type": "markdown",
   "metadata": {},
   "source": [
    "## 2.1 Celdas<a name='id21'></a>.\n",
    "\n",
    "Existen dos tipos de celdas: celdas para markdown y celdas para código. Al presionar SHIFT+ENTER ejecutaremos los contenidos de una celda.\n",
    "\n",
    "> Las celdas Markdown contienen:\n",
    "> + 𝙼𝚊𝚛𝚔𝚍𝚘𝚠𝚗 \n",
    "> + HTML\n",
    "> + 𝙻𝚊𝚃𝚎𝚇 \n",
    "> + Texto\n",
    "> + Imágenes\n",
    "> + Videos\n",
    "> + Cualquier cosa que un navegador pueda entender.\n",
    "\n",
    "> El código en Python se escribe in celdas para código. Al presionar SHIFT+ENTER se ejecuta el código. La salida se muestra como se observa a continuación en la siguiente celda para código:"
   ]
  },
  {
   "cell_type": "code",
   "execution_count": 1,
   "metadata": {},
   "outputs": [
    {
     "data": {
      "text/plain": [
       "2"
      ]
     },
     "execution_count": 1,
     "metadata": {},
     "output_type": "execute_result"
    }
   ],
   "source": [
    "1+1"
   ]
  },
  {
   "cell_type": "markdown",
   "metadata": {},
   "source": [
    "> Vemos la salida de esa operación y un número que nos está indicando"
   ]
  },
  {
   "cell_type": "markdown",
   "metadata": {},
   "source": [
    "> ### Guión bajo"
   ]
  },
  {
   "cell_type": "code",
   "execution_count": 2,
   "metadata": {},
   "outputs": [
    {
     "data": {
      "text/plain": [
       "2"
      ]
     },
     "execution_count": 2,
     "metadata": {},
     "output_type": "execute_result"
    }
   ],
   "source": [
    "_"
   ]
  },
  {
   "cell_type": "markdown",
   "metadata": {},
   "source": [
    "> + El guión bajo está mostrando en esa variable el último resultado que hemos obtenido.\n",
    "\n",
    "> ### Ayuda "
   ]
  },
  {
   "cell_type": "code",
   "execution_count": 3,
   "metadata": {},
   "outputs": [],
   "source": [
    "?"
   ]
  },
  {
   "cell_type": "markdown",
   "metadata": {},
   "source": [
    "> ### Código Python para mostrar los primero diez números"
   ]
  },
  {
   "cell_type": "code",
   "execution_count": 4,
   "metadata": {},
   "outputs": [
    {
     "name": "stdout",
     "output_type": "stream",
     "text": [
      "1\n",
      "2\n",
      "3\n",
      "4\n",
      "5\n",
      "6\n",
      "7\n",
      "8\n",
      "9\n",
      "10\n"
     ]
    }
   ],
   "source": [
    "for n in range(1,11):\n",
    "    print(n)"
   ]
  },
  {
   "cell_type": "markdown",
   "metadata": {},
   "source": [
    "## 2.2 Celda de texto enriquecido en markdown<a name='id22'></a>.\n",
    "> *itálica*\n",
    "\n",
    "> **bold**\n",
    "\n",
    "> SI escribo algo así quedará con sangría...\n",
    "\n",
    "> + Lista de algo 1\n",
    "> + Lista de algo 2\n",
    "> + y una list más\n",
    "\n",
    "> 1. Algo aquí \n",
    "> 1. Otra cosa aquí\n",
    "> 1. y otra más\n",
    "\n",
    "> # Título 1\n",
    "> ## Título 2\n",
    "> ### Título 3\n",
    "\n",
    "> [ACUS099 Procesamiento digital de señales](https://github.com/vpobleteacustica/ACUS099-Procesamiento-digital-de-senales)\n",
    "\n",
    "> ### Regla de Bayes:\n",
    "$$\n",
    "\\begin{align*}\n",
    "P(y | x) = \\frac{P(x|y) P(y)}{P(x)} = \\frac{P(x|y) P(y)}{\\sum_{y\\in\\mathcal{Y}} P(x|y) P(y)}\n",
    "\\label{eq1}\n",
    "\\end{align*}\n",
    "$$"
   ]
  },
  {
   "cell_type": "code",
   "execution_count": 5,
   "metadata": {},
   "outputs": [
    {
     "data": {
      "image/jpeg": "[encoded data removed]",
      "text/html": [
       "\n",
       "        <iframe\n",
       "            width=\"400\"\n",
       "            height=\"300\"\n",
       "            src=\"https://www.youtube.com/embed/R90ciUoxcJU\"\n",
       "            frameborder=\"0\"\n",
       "            allowfullscreen\n",
       "            \n",
       "        ></iframe>\n",
       "        "
      ],
      "text/plain": [
       "<IPython.lib.display.YouTubeVideo at 0x105d74c70>"
      ]
     },
     "execution_count": 5,
     "metadata": {},
     "output_type": "execute_result"
    }
   ],
   "source": [
    "from IPython.display import YouTubeVideo\n",
    "YouTubeVideo('R90ciUoxcJU')"
   ]
  },
  {
   "cell_type": "markdown",
   "metadata": {},
   "source": [
    "## 2.3 En celda de código importando dinamicamente librerias<a name='id23'></a>."
   ]
  },
  {
   "cell_type": "code",
   "execution_count": 6,
   "metadata": {},
   "outputs": [],
   "source": [
    "import numpy as np\n",
    "import matplotlib.pyplot as plt"
   ]
  },
  {
   "cell_type": "code",
   "execution_count": 7,
   "metadata": {},
   "outputs": [
    {
     "data": {
      "text/plain": [
       "[None, None]"
      ]
     },
     "execution_count": 7,
     "metadata": {},
     "output_type": "execute_result"
    },
    {
     "data": {
      "image/png": "[encoded data removed]",
      "text/plain": [
       "<Figure size 640x480 with 1 Axes>"
      ]
     },
     "metadata": {},
     "output_type": "display_data"
    }
   ],
   "source": [
    "fig,ax = plt.subplots()\n",
    "\n",
    "f  = 2.0   # Hz, frecuencia de una señal\n",
    "fs = 35.0 # Hz, frecuencia de muestreo o Nyquist ( >= 2*f) \n",
    "t  = np.arange(-1,1+1/fs,1/fs) # intervalo de muestras, simétrico por conveniencia.\n",
    "x  = np.sin(2*np.pi*f*t)\n",
    "x2 = np.sin(2*np.pi*f*t)\n",
    "markerline, stemlines, baseline = ax.stem(t,x,'k',markerfmt='ko')\n",
    "ax.plot(t,x2,'r')\n",
    "ax.set_xlabel('tiempo',fontsize=18)\n",
    "ax.set_ylabel('amplitud',fontsize=18)\n",
    "plt.setp(baseline, color='k', linewidth=2)"
   ]
  },
  {
   "cell_type": "code",
   "execution_count": 8,
   "metadata": {},
   "outputs": [
    {
     "name": "stdout",
     "output_type": "stream",
     "text": [
      "Help on built-in function arange in module numpy:\n",
      "\n",
      "arange(...)\n",
      "    arange([start,] stop[, step,], dtype=None, *, like=None)\n",
      "    \n",
      "    Return evenly spaced values within a given interval.\n",
      "    \n",
      "    ``arange`` can be called with a varying number of positional arguments:\n",
      "    \n",
      "    * ``arange(stop)``: Values are generated within the half-open interval\n",
      "      ``[0, stop)`` (in other words, the interval including `start` but\n",
      "      excluding `stop`).\n",
      "    * ``arange(start, stop)``: Values are generated within the half-open\n",
      "      interval ``[start, stop)``.\n",
      "    * ``arange(start, stop, step)`` Values are generated within the half-open\n",
      "      interval ``[start, stop)``, with spacing between values given by\n",
      "      ``step``.\n",
      "    \n",
      "    For integer arguments the function is roughly equivalent to the Python\n",
      "    built-in :py:class:`range`, but returns an ndarray rather than a ``range``\n",
      "    instance.\n",
      "    \n",
      "    When using a non-integer step, such as 0.1, it is often better to use\n",
      "    `numpy.linspace`.\n",
      "    \n",
      "    See the Warning sections below for more information.\n",
      "    \n",
      "    Parameters\n",
      "    ----------\n",
      "    start : integer or real, optional\n",
      "        Start of interval.  The interval includes this value.  The default\n",
      "        start value is 0.\n",
      "    stop : integer or real\n",
      "        End of interval.  The interval does not include this value, except\n",
      "        in some cases where `step` is not an integer and floating point\n",
      "        round-off affects the length of `out`.\n",
      "    step : integer or real, optional\n",
      "        Spacing between values.  For any output `out`, this is the distance\n",
      "        between two adjacent values, ``out[i+1] - out[i]``.  The default\n",
      "        step size is 1.  If `step` is specified as a position argument,\n",
      "        `start` must also be given.\n",
      "    dtype : dtype, optional\n",
      "        The type of the output array.  If `dtype` is not given, infer the data\n",
      "        type from the other input arguments.\n",
      "    like : array_like, optional\n",
      "        Reference object to allow the creation of arrays which are not\n",
      "        NumPy arrays. If an array-like passed in as ``like`` supports\n",
      "        the ``__array_function__`` protocol, the result will be defined\n",
      "        by it. In this case, it ensures the creation of an array object\n",
      "        compatible with that passed in via this argument.\n",
      "    \n",
      "        .. versionadded:: 1.20.0\n",
      "    \n",
      "    Returns\n",
      "    -------\n",
      "    arange : ndarray\n",
      "        Array of evenly spaced values.\n",
      "    \n",
      "        For floating point arguments, the length of the result is\n",
      "        ``ceil((stop - start)/step)``.  Because of floating point overflow,\n",
      "        this rule may result in the last element of `out` being greater\n",
      "        than `stop`.\n",
      "    \n",
      "    Warnings\n",
      "    --------\n",
      "    The length of the output might not be numerically stable.\n",
      "    \n",
      "    Another stability issue is due to the internal implementation of\n",
      "    `numpy.arange`.\n",
      "    The actual step value used to populate the array is\n",
      "    ``dtype(start + step) - dtype(start)`` and not `step`. Precision loss\n",
      "    can occur here, due to casting or due to using floating points when\n",
      "    `start` is much larger than `step`. This can lead to unexpected\n",
      "    behaviour. For example::\n",
      "    \n",
      "      >>> np.arange(0, 5, 0.5, dtype=int)\n",
      "      array([0, 0, 0, 0, 0, 0, 0, 0, 0, 0])\n",
      "      >>> np.arange(-3, 3, 0.5, dtype=int)\n",
      "      array([-3, -2, -1,  0,  1,  2,  3,  4,  5,  6,  7,  8])\n",
      "    \n",
      "    In such cases, the use of `numpy.linspace` should be preferred.\n",
      "    \n",
      "    The built-in :py:class:`range` generates :std:doc:`Python built-in integers\n",
      "    that have arbitrary size <python:c-api/long>`, while `numpy.arange`\n",
      "    produces `numpy.int32` or `numpy.int64` numbers. This may result in\n",
      "    incorrect results for large integer values::\n",
      "    \n",
      "      >>> power = 40\n",
      "      >>> modulo = 10000\n",
      "      >>> x1 = [(n ** power) % modulo for n in range(8)]\n",
      "      >>> x2 = [(n ** power) % modulo for n in np.arange(8)]\n",
      "      >>> print(x1)\n",
      "      [0, 1, 7776, 8801, 6176, 625, 6576, 4001]  # correct\n",
      "      >>> print(x2)\n",
      "      [0, 1, 7776, 7185, 0, 5969, 4816, 3361]  # incorrect\n",
      "    \n",
      "    See Also\n",
      "    --------\n",
      "    numpy.linspace : Evenly spaced numbers with careful handling of endpoints.\n",
      "    numpy.ogrid: Arrays of evenly spaced numbers in N-dimensions.\n",
      "    numpy.mgrid: Grid-shaped arrays of evenly spaced numbers in N-dimensions.\n",
      "    :ref:`how-to-partition`\n",
      "    \n",
      "    Examples\n",
      "    --------\n",
      "    >>> np.arange(3)\n",
      "    array([0, 1, 2])\n",
      "    >>> np.arange(3.0)\n",
      "    array([ 0.,  1.,  2.])\n",
      "    >>> np.arange(3,7)\n",
      "    array([3, 4, 5, 6])\n",
      "    >>> np.arange(3,7,2)\n",
      "    array([3, 5])\n",
      "\n"
     ]
    }
   ],
   "source": [
    "help(np.arange)"
   ]
  },
  {
   "cell_type": "markdown",
   "metadata": {},
   "source": [
    "***\n",
    "\n",
    "## 3. Windows<a name='id3'></a>\n",
    "En una primera instancia, verificar si tu ordenador ya cuenta con Python 3, para poder realizar este checkeo, debes ejecutar el siguiente comando Windows + R , al apretar estas teclas aparecerá la ventana de Ejecutar, donde simplemente escribimos CMD y pulsamos Enter o en Aceptar con lo que nos aparecerá la ventana de comandos.\n",
    "\n",
    "En esta ventana debemos escribir lo siguiente"
   ]
  },
  {
   "cell_type": "markdown",
   "metadata": {},
   "source": [
    "```\n",
    "python --version\n",
    "```\n",
    "o \n",
    "```\n",
    "python3 --version\n",
    "```\n",
    "Si obtiene una respuesta favorable, es decir, el sistema le arroja la version de Python y es mayor a la anteriormente utilizada, favor dirigirse a la sección 3.2.<a name='id32'></a>"
   ]
  },
  {
   "cell_type": "markdown",
   "metadata": {},
   "source": [
    "De lo contrario debe seguir a continuación.\n",
    "\n",
    "### 3.1. Python<a name='id31'></a>\n",
    "Primero comprueba si tu ordenador ejecuta la versión 32 bits de Windows o la de 64, en \"Tipo de sistema\" en la página de \"Acerca de\":\n",
    "\n",
    "Presiona la tecla de Windows y la tecla Pause/Break al mismo tiempo. Abre el Panel de Control desde el menú de Windows, después accede a Sistema & y Seguridad, luego a Sistema.Presiona el botón de Windows, luego accede a Configuración > Sistema > Acerca de.\n",
    "Puedes descargar Python para Windows desde la siguiente web <a href=\"https://www.python.org/downloads/windows/\">https://www.python.org/downloads/windows/</a>. Clickea en el enlace \"Latest Python 3 Release -Python x.x.x\". Si tu ordenador ejecuta la versión de 64 bits de Windows, descarga Windows x86-64 executable installer. De lo contrario, descarga Windows x86 executable installer. Después de descargar el instalador, deberías ejecutarlo (dándole doble click) y seguir las instrucciones.\n",
    "\n",
    "Una cosa para tener en cuenta: Durante la instalación, verás una ventana de \"Setup\". Asegúrate de marcar las casillas \"Add Python 3.8 to PATH\" o \"Add Python to your environment variables\" y hacer click en \"Install Now\".\n",
    "\n",
    "Verifica si la instalación fue exitosa abriendo una terminal o consola, y corriendo el comando python3:\n"
   ]
  },
  {
   "cell_type": "markdown",
   "metadata": {},
   "source": [
    "```\n",
    "Input: python3 --version\n",
    "Python 3.8.2\n",
    "```\n",
    "\n",
    "Tambien verificar que la herramienta PIP tambien haya sido instalada, de la misma manera en que se verificó python:\n",
    "\n",
    "```\n",
    "Input: pip3 --version\n",
    "pip 20.0.2 from .../Library/Python/3.8/lib/python/site-packages/pip (python 3.8)\n",
    "```"
   ]
  },
  {
   "cell_type": "markdown",
   "metadata": {},
   "source": [
    "### 3.2. Jupyter Notebook<a name='id32'></a>\n",
    "Para poder instalar jupyter se debe tener como requisito el tener Python ya instalado, luego de este paso haya sido realizado se debe abrir la consola de comandos y realizar lo siquiente:\n",
    "\n",
    "```\n",
    "Input: pip3 install notebook --user\n",
    "```\n",
    "\n",
    "Luego de que se haya instalado, ejecutar la siguiente linea para verificar que la instalación fue exitosa:\n",
    "Input: jupyter notebook\n",
    "\n",
    "```\n",
    "Al ejecutar esta linea se te deberia abrir una pestaña de tu navegador predeterminado con la plataforma *Jupyter Notebook* \n",
    "\n",
    "***"
   ]
  },
  {
   "cell_type": "markdown",
   "metadata": {},
   "source": [
    "## 4 Mac<a name='id4'></a>\n",
    "\n",
    "Para abrir la terminal de MacOS haz clic en el icono \"Finder\" situado en el Dock, luego selecciona \"Aplicaciones > Utilidades\"\n",
    "Finalmente dale doble clic al icono \"Terminal\".\n",
    "\n",
    "Verificar versión con la que se cuenta en su ordenador con la siguiente linea en terminal:\n",
    "\n",
    "```\n",
    "python --version\n",
    "```\n",
    "o \n",
    "```\n",
    "python3 --version\n",
    "```\n",
    "Si cumple con los requisitos mencionados en 1.<a name='id1'></a> dirigirse a la sección 4.2.<a name='id42'></a>\n",
    "\n",
    "De lo contrario, para este sistema operativo se necesita instalar una herramienta llamada *Homebrew* cuya finalidad es ser un proveedor e instalador de herramientas y programas.\n",
    "\n",
    "El gestor de paquetes se obtiene en <a href=\"https://brew.sh/index_es\">https://brew.sh/index_es</a>., las instrucciones de su instalación se encuentran claramente pauteadas en el enlace."
   ]
  },
  {
   "cell_type": "markdown",
   "metadata": {},
   "source": [
    "### 4.1. Python<a name='id41'></a>\n",
    "Una vez ya instalado *Homebrew* se procede a utilizarlo, en la terminal de su computador con la siguiente linea:\n",
    "\n",
    "```\n",
    "brew install python3\n",
    "```\n",
    "luego que ya se haya ejecutado la linea anterior se  procede a verificar su instalacion, nuevamente con la linea: \n",
    "\n",
    "```\n",
    "python3 --version\n",
    "```\n",
    "\n",
    "    NOTA: brew busca la version de python3 mas reciente y mas estable de las presentes en la red"
   ]
  },
  {
   "cell_type": "markdown",
   "metadata": {},
   "source": [
    "### 4.2. Jupyter Notebook<a name='id42'></a>\n",
    "\n",
    "Para poder instalar jupyter se debe tener como requisito el tener Python ya instalado, luego de este paso haya sido realizado se debe abrir la consola de comandos y realizar lo siquiente:\n",
    "\n",
    "```\n",
    "Input: pip3 install notebook --user\n",
    "```\n",
    "\n",
    "Luego de que se haya instalado, ejecutar la siguiente linea para verificar que la instalación fue exitosa:\n",
    "\n",
    "```\n",
    "Input: jupyter notebook\n",
    "```\n",
    "Al ejecutar esta linea se te deberia abrir una pestaña de tu navegador predeterminado con la plataforma *Jupyter Notebook* \n",
    "\n",
    "***"
   ]
  },
  {
   "cell_type": "markdown",
   "metadata": {},
   "source": [
    "## 5 Ubuntu<a name='id5'></a>\n",
    "\n",
    "Para este sistema operativo la instalación es más sencilla, ya que este depende sólo de su terminal.\n"
   ]
  },
  {
   "cell_type": "markdown",
   "metadata": {},
   "source": [
    "### 5.1. Python<a name='id51'></a>\n",
    "Instalar Python se debe realizar en la terminal y con el gestor de paquetes llamado 'apt-get' que viene por defecto en tu computadora.\n",
    "Las lineas para obtener el lenguaje son las siguientes:\n",
    "\n",
    "```\n",
    "sudo apt update\n",
    "sudo apt install software-properties-common\n",
    "sudo apt install python3.8\n",
    "```\n",
    "Una vez realizadas estas lineas verificar que la instalación de estas haya sido correcta, con la siguiente linea:\n",
    "\n",
    "```\n",
    "Input:python3 --version\n",
    "Python 3.8.2\n",
    "```"
   ]
  },
  {
   "cell_type": "markdown",
   "metadata": {},
   "source": [
    "### 5.2. Jupyter Notebook<a name='id52'></a>\n",
    "\n",
    "Para poder instalar jupyter se debe tener como requisito el tener Python ya instalado, luego de este paso haya sido realizado se debe abrir la consola de comandos y realizar lo siquiente:\n",
    "\n",
    "```\n",
    "Input: pip3 install notebook --user\n",
    "```\n",
    "\n",
    "Luego de que se haya instalado, ejecutar la siguiente linea para verificar que la instalación fue exitosa:\n",
    "\n",
    "```\n",
    "Input: jupyter notebook\n",
    "```\n",
    "Al ejecutar esta linea se te deberia abrir una pestaña de tu navegador predeterminado con la plataforma *Jupyter Notebook* \n",
    "\n",
    "***"
   ]
  },
  {
   "cell_type": "markdown",
   "metadata": {},
   "source": [
    "## 6. Bibliografía<a name='id6'></a>\n",
    "\n",
    "<a href=\"http://docs.python.org.ar/tutorial/3/real-index.html\">http://docs.python.org.ar/tutorial/3/real-index.html</a>.\n",
    "\n",
    "<a href=\"https://tutorial.djangogirls.org/es/python_installation/\">https://tutorial.djangogirls.org/es/python_installation/</a>.\n",
    "\n",
    "<a href=\"https://jupyter.org/install\">https://jupyter.org/install</a>."
   ]
  },
  {
   "cell_type": "markdown",
   "metadata": {},
   "source": [
    "## 7. Archivo de Python<a name='id8'></a>\n",
    "\n",
    "> + Un código de Python se puede guardar en archivo de texto con la extensión: \"`.py`\":\n",
    "\n",
    "        mi_programa_python.py\n",
    "\n",
    "> + Cada línea del programa en el archivo \"`.py`\", se asume que es una sentencia de Python.\n",
    "\n",
    "> + Las líneas de comentario se inician con el caracter: `#` y son ignoradas al ejecutar Python.\n",
    "\n",
    "\n",
    "> + Para ejecutar el código de Python, en la línea de comando del terminal, se usa:\n",
    "\n",
    "        $ python mi_programa_python.py"
   ]
  },
  {
   "cell_type": "code",
   "execution_count": 9,
   "metadata": {},
   "outputs": [
    {
     "data": {
      "text/plain": [
       "'/Users/vpoblete/Documents/20230208_vpoblete/20240324_acus099/clase_1'"
      ]
     },
     "execution_count": 9,
     "metadata": {},
     "output_type": "execute_result"
    }
   ],
   "source": [
    "pwd"
   ]
  },
  {
   "cell_type": "code",
   "execution_count": 10,
   "metadata": {},
   "outputs": [
    {
     "name": "stdout",
     "output_type": "stream",
     "text": [
      "Hola mundo!!... usando jupyter notebook...\r\n"
     ]
    }
   ],
   "source": [
    "!python mi_programa_python.py"
   ]
  },
  {
   "cell_type": "markdown",
   "metadata": {},
   "source": [
    "## 8. Módulos<a name='id9'></a>\n",
    "\n",
    "> + La mayor parte de las funcionalidades de Python la proporcionan los <span style=\"color:red\">módulos.</span>\n",
    "> + [Python Standard Library:](http://docs.python.org/2/library/) es una gran colección de módulos que proporcionan facilidades.\n",
    "> + [Python Language Reference:](http://docs.python.org/2/reference/index.html) es otra referencia muy importante.\n",
    "> + Para usar un módulo en un programa de Python primero lo <span style=\"color:red\">importamos.</span>\n",
    "> + Un módulo se <span style=\"color:red\">importa</span> usando `import`. Por ejemplo, para importar el módulo `math`, que contiene funciones matemáticas, hacemos:"
   ]
  },
  {
   "cell_type": "code",
   "execution_count": 11,
   "metadata": {},
   "outputs": [],
   "source": [
    "import math"
   ]
  },
  {
   "cell_type": "markdown",
   "metadata": {},
   "source": [
    "> + Esta importación permite el uso completo del módulo lo que nos facilita su uso durante la creación del código. Por ejemplo:"
   ]
  },
  {
   "cell_type": "code",
   "execution_count": 12,
   "metadata": {},
   "outputs": [
    {
     "name": "stdout",
     "output_type": "stream",
     "text": [
      "1.0\n"
     ]
    }
   ],
   "source": [
    "x = math.sin(math.pi/2)\n",
    "\n",
    "print(x)"
   ]
  },
  {
   "cell_type": "markdown",
   "metadata": {},
   "source": [
    "> + Otra posibilidad es importar todo del módulo, esto es, todas sus funciones y sus variables de tal forma que no se necesite usar el prefijo \"math.\" cada vez que llamemos al módulo:"
   ]
  },
  {
   "cell_type": "markdown",
   "metadata": {},
   "source": [
    "from math import *\n",
    "\n",
    "x = sin(math.pi/2)\n",
    "\n",
    "print(x)"
   ]
  },
  {
   "cell_type": "markdown",
   "metadata": {},
   "source": [
    "### Mirar lo que contiene un módulo y revisar su documentación\n",
    "\n",
    "> + Una vez que importamos el módulo se puede listar todo lo que éste contiene usando la función`dir`:"
   ]
  },
  {
   "cell_type": "code",
   "execution_count": 13,
   "metadata": {},
   "outputs": [
    {
     "name": "stdout",
     "output_type": "stream",
     "text": [
      "['__doc__', '__file__', '__loader__', '__name__', '__package__', '__spec__', 'acos', 'acosh', 'asin', 'asinh', 'atan', 'atan2', 'atanh', 'ceil', 'comb', 'copysign', 'cos', 'cosh', 'degrees', 'dist', 'e', 'erf', 'erfc', 'exp', 'expm1', 'fabs', 'factorial', 'floor', 'fmod', 'frexp', 'fsum', 'gamma', 'gcd', 'hypot', 'inf', 'isclose', 'isfinite', 'isinf', 'isnan', 'isqrt', 'ldexp', 'lgamma', 'log', 'log10', 'log1p', 'log2', 'modf', 'nan', 'perm', 'pi', 'pow', 'prod', 'radians', 'remainder', 'sin', 'sinh', 'sqrt', 'tan', 'tanh', 'tau', 'trunc']\n"
     ]
    }
   ],
   "source": [
    "print(dir(math))"
   ]
  },
  {
   "cell_type": "markdown",
   "metadata": {},
   "source": [
    "> + Con la función `help` se obtiene una descripción de cada una de las funciones:"
   ]
  },
  {
   "cell_type": "code",
   "execution_count": 14,
   "metadata": {},
   "outputs": [
    {
     "name": "stdout",
     "output_type": "stream",
     "text": [
      "Help on built-in function acos in module math:\n",
      "\n",
      "acos(x, /)\n",
      "    Return the arc cosine (measured in radians) of x.\n",
      "\n"
     ]
    }
   ],
   "source": [
    "help(math.acos)"
   ]
  },
  {
   "cell_type": "markdown",
   "metadata": {},
   "source": [
    "> + Además, help puede usarse directamente sobre el módulo: "
   ]
  },
  {
   "cell_type": "code",
   "execution_count": 15,
   "metadata": {},
   "outputs": [
    {
     "name": "stdout",
     "output_type": "stream",
     "text": [
      "Help on module math:\n",
      "\n",
      "NAME\n",
      "    math\n",
      "\n",
      "MODULE REFERENCE\n",
      "    https://docs.python.org/3.8/library/math\n",
      "    \n",
      "    The following documentation is automatically generated from the Python\n",
      "    source files.  It may be incomplete, incorrect or include features that\n",
      "    are considered implementation detail and may vary between Python\n",
      "    implementations.  When in doubt, consult the module reference at the\n",
      "    location listed above.\n",
      "\n",
      "DESCRIPTION\n",
      "    This module provides access to the mathematical functions\n",
      "    defined by the C standard.\n",
      "\n",
      "FUNCTIONS\n",
      "    acos(x, /)\n",
      "        Return the arc cosine (measured in radians) of x.\n",
      "    \n",
      "    acosh(x, /)\n",
      "        Return the inverse hyperbolic cosine of x.\n",
      "    \n",
      "    asin(x, /)\n",
      "        Return the arc sine (measured in radians) of x.\n",
      "    \n",
      "    asinh(x, /)\n",
      "        Return the inverse hyperbolic sine of x.\n",
      "    \n",
      "    atan(x, /)\n",
      "        Return the arc tangent (measured in radians) of x.\n",
      "    \n",
      "    atan2(y, x, /)\n",
      "        Return the arc tangent (measured in radians) of y/x.\n",
      "        \n",
      "        Unlike atan(y/x), the signs of both x and y are considered.\n",
      "    \n",
      "    atanh(x, /)\n",
      "        Return the inverse hyperbolic tangent of x.\n",
      "    \n",
      "    ceil(x, /)\n",
      "        Return the ceiling of x as an Integral.\n",
      "        \n",
      "        This is the smallest integer >= x.\n",
      "    \n",
      "    comb(n, k, /)\n",
      "        Number of ways to choose k items from n items without repetition and without order.\n",
      "        \n",
      "        Evaluates to n! / (k! * (n - k)!) when k <= n and evaluates\n",
      "        to zero when k > n.\n",
      "        \n",
      "        Also called the binomial coefficient because it is equivalent\n",
      "        to the coefficient of k-th term in polynomial expansion of the\n",
      "        expression (1 + x)**n.\n",
      "        \n",
      "        Raises TypeError if either of the arguments are not integers.\n",
      "        Raises ValueError if either of the arguments are negative.\n",
      "    \n",
      "    copysign(x, y, /)\n",
      "        Return a float with the magnitude (absolute value) of x but the sign of y.\n",
      "        \n",
      "        On platforms that support signed zeros, copysign(1.0, -0.0)\n",
      "        returns -1.0.\n",
      "    \n",
      "    cos(x, /)\n",
      "        Return the cosine of x (measured in radians).\n",
      "    \n",
      "    cosh(x, /)\n",
      "        Return the hyperbolic cosine of x.\n",
      "    \n",
      "    degrees(x, /)\n",
      "        Convert angle x from radians to degrees.\n",
      "    \n",
      "    dist(p, q, /)\n",
      "        Return the Euclidean distance between two points p and q.\n",
      "        \n",
      "        The points should be specified as sequences (or iterables) of\n",
      "        coordinates.  Both inputs must have the same dimension.\n",
      "        \n",
      "        Roughly equivalent to:\n",
      "            sqrt(sum((px - qx) ** 2.0 for px, qx in zip(p, q)))\n",
      "    \n",
      "    erf(x, /)\n",
      "        Error function at x.\n",
      "    \n",
      "    erfc(x, /)\n",
      "        Complementary error function at x.\n",
      "    \n",
      "    exp(x, /)\n",
      "        Return e raised to the power of x.\n",
      "    \n",
      "    expm1(x, /)\n",
      "        Return exp(x)-1.\n",
      "        \n",
      "        This function avoids the loss of precision involved in the direct evaluation of exp(x)-1 for small x.\n",
      "    \n",
      "    fabs(x, /)\n",
      "        Return the absolute value of the float x.\n",
      "    \n",
      "    factorial(x, /)\n",
      "        Find x!.\n",
      "        \n",
      "        Raise a ValueError if x is negative or non-integral.\n",
      "    \n",
      "    floor(x, /)\n",
      "        Return the floor of x as an Integral.\n",
      "        \n",
      "        This is the largest integer <= x.\n",
      "    \n",
      "    fmod(x, y, /)\n",
      "        Return fmod(x, y), according to platform C.\n",
      "        \n",
      "        x % y may differ.\n",
      "    \n",
      "    frexp(x, /)\n",
      "        Return the mantissa and exponent of x, as pair (m, e).\n",
      "        \n",
      "        m is a float and e is an int, such that x = m * 2.**e.\n",
      "        If x is 0, m and e are both 0.  Else 0.5 <= abs(m) < 1.0.\n",
      "    \n",
      "    fsum(seq, /)\n",
      "        Return an accurate floating point sum of values in the iterable seq.\n",
      "        \n",
      "        Assumes IEEE-754 floating point arithmetic.\n",
      "    \n",
      "    gamma(x, /)\n",
      "        Gamma function at x.\n",
      "    \n",
      "    gcd(x, y, /)\n",
      "        greatest common divisor of x and y\n",
      "    \n",
      "    hypot(...)\n",
      "        hypot(*coordinates) -> value\n",
      "        \n",
      "        Multidimensional Euclidean distance from the origin to a point.\n",
      "        \n",
      "        Roughly equivalent to:\n",
      "            sqrt(sum(x**2 for x in coordinates))\n",
      "        \n",
      "        For a two dimensional point (x, y), gives the hypotenuse\n",
      "        using the Pythagorean theorem:  sqrt(x*x + y*y).\n",
      "        \n",
      "        For example, the hypotenuse of a 3/4/5 right triangle is:\n",
      "        \n",
      "            >>> hypot(3.0, 4.0)\n",
      "            5.0\n",
      "    \n",
      "    isclose(a, b, *, rel_tol=1e-09, abs_tol=0.0)\n",
      "        Determine whether two floating point numbers are close in value.\n",
      "        \n",
      "          rel_tol\n",
      "            maximum difference for being considered \"close\", relative to the\n",
      "            magnitude of the input values\n",
      "          abs_tol\n",
      "            maximum difference for being considered \"close\", regardless of the\n",
      "            magnitude of the input values\n",
      "        \n",
      "        Return True if a is close in value to b, and False otherwise.\n",
      "        \n",
      "        For the values to be considered close, the difference between them\n",
      "        must be smaller than at least one of the tolerances.\n",
      "        \n",
      "        -inf, inf and NaN behave similarly to the IEEE 754 Standard.  That\n",
      "        is, NaN is not close to anything, even itself.  inf and -inf are\n",
      "        only close to themselves.\n",
      "    \n",
      "    isfinite(x, /)\n",
      "        Return True if x is neither an infinity nor a NaN, and False otherwise.\n",
      "    \n",
      "    isinf(x, /)\n",
      "        Return True if x is a positive or negative infinity, and False otherwise.\n",
      "    \n",
      "    isnan(x, /)\n",
      "        Return True if x is a NaN (not a number), and False otherwise.\n",
      "    \n",
      "    isqrt(n, /)\n",
      "        Return the integer part of the square root of the input.\n",
      "    \n",
      "    ldexp(x, i, /)\n",
      "        Return x * (2**i).\n",
      "        \n",
      "        This is essentially the inverse of frexp().\n",
      "    \n",
      "    lgamma(x, /)\n",
      "        Natural logarithm of absolute value of Gamma function at x.\n",
      "    \n",
      "    log(...)\n",
      "        log(x, [base=math.e])\n",
      "        Return the logarithm of x to the given base.\n",
      "        \n",
      "        If the base not specified, returns the natural logarithm (base e) of x.\n",
      "    \n",
      "    log10(x, /)\n",
      "        Return the base 10 logarithm of x.\n",
      "    \n",
      "    log1p(x, /)\n",
      "        Return the natural logarithm of 1+x (base e).\n",
      "        \n",
      "        The result is computed in a way which is accurate for x near zero.\n",
      "    \n",
      "    log2(x, /)\n",
      "        Return the base 2 logarithm of x.\n",
      "    \n",
      "    modf(x, /)\n",
      "        Return the fractional and integer parts of x.\n",
      "        \n",
      "        Both results carry the sign of x and are floats.\n",
      "    \n",
      "    perm(n, k=None, /)\n",
      "        Number of ways to choose k items from n items without repetition and with order.\n",
      "        \n",
      "        Evaluates to n! / (n - k)! when k <= n and evaluates\n",
      "        to zero when k > n.\n",
      "        \n",
      "        If k is not specified or is None, then k defaults to n\n",
      "        and the function returns n!.\n",
      "        \n",
      "        Raises TypeError if either of the arguments are not integers.\n",
      "        Raises ValueError if either of the arguments are negative.\n",
      "    \n",
      "    pow(x, y, /)\n",
      "        Return x**y (x to the power of y).\n",
      "    \n",
      "    prod(iterable, /, *, start=1)\n",
      "        Calculate the product of all the elements in the input iterable.\n",
      "        \n",
      "        The default start value for the product is 1.\n",
      "        \n",
      "        When the iterable is empty, return the start value.  This function is\n",
      "        intended specifically for use with numeric values and may reject\n",
      "        non-numeric types.\n",
      "    \n",
      "    radians(x, /)\n",
      "        Convert angle x from degrees to radians.\n",
      "    \n",
      "    remainder(x, y, /)\n",
      "        Difference between x and the closest integer multiple of y.\n",
      "        \n",
      "        Return x - n*y where n*y is the closest integer multiple of y.\n",
      "        In the case where x is exactly halfway between two multiples of\n",
      "        y, the nearest even value of n is used. The result is always exact.\n",
      "    \n",
      "    sin(x, /)\n",
      "        Return the sine of x (measured in radians).\n",
      "    \n",
      "    sinh(x, /)\n",
      "        Return the hyperbolic sine of x.\n",
      "    \n",
      "    sqrt(x, /)\n",
      "        Return the square root of x.\n",
      "    \n",
      "    tan(x, /)\n",
      "        Return the tangent of x (measured in radians).\n",
      "    \n",
      "    tanh(x, /)\n",
      "        Return the hyperbolic tangent of x.\n",
      "    \n",
      "    trunc(x, /)\n",
      "        Truncates the Real x to the nearest Integral toward 0.\n",
      "        \n",
      "        Uses the __trunc__ magic method.\n",
      "\n",
      "DATA\n",
      "    e = 2.718281828459045\n",
      "    inf = inf\n",
      "    nan = nan\n",
      "    pi = 3.141592653589793\n",
      "    tau = 6.283185307179586\n",
      "\n",
      "FILE\n",
      "    /Users/vpoblete/miniconda3/envs/acus099_2024/lib/python3.8/lib-dynload/math.cpython-38-darwin.so\n",
      "\n",
      "\n"
     ]
    }
   ],
   "source": [
    "help(math)"
   ]
  },
  {
   "cell_type": "markdown",
   "metadata": {},
   "source": [
    "## Variables y tipos\n",
    "\n",
    "> + Nombres de los símbolos:\n",
    ">> + Los nombres de variable en Python pueden contener caracteres alfanuméricos: a-z, A-Z, 0-9 and some special characters such as _. Normal variable names must start with a letter."
   ]
  },
  {
   "cell_type": "code",
   "execution_count": null,
   "metadata": {},
   "outputs": [],
   "source": []
  }
 ],
 "metadata": {
  "kernelspec": {
   "display_name": "acus099_2024",
   "language": "python",
   "name": "acus099_2024"
  },
  "language_info": {
   "codemirror_mode": {
    "name": "ipython",
    "version": 3
   },
   "file_extension": ".py",
   "mimetype": "text/x-python",
   "name": "python",
   "nbconvert_exporter": "python",
   "pygments_lexer": "ipython3",
   "version": "3.8.10"
  }
 },
 "nbformat": 4,
 "nbformat_minor": 4
}
