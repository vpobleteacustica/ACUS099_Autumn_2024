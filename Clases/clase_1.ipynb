{
 "cells": [
  {
   "cell_type": "markdown",
   "metadata": {},
   "source": [
    "#### Modificando la apariencia del notebook"
   ]
  },
  {
   "cell_type": "code",
   "execution_count": 1,
   "metadata": {},
   "outputs": [
    {
     "data": {
      "text/html": [
       "<!-- Mejorar visualización en proyector -->\n",
       "<style>\n",
       ".rendered_html {font-size: 1.2em; line-height: 150%;}\n",
       "div.prompt {min-width: 0ex; }\n",
       ".container {width:95% !important;}\n",
       "</style>\n"
      ],
      "text/plain": [
       "<IPython.core.display.HTML object>"
      ]
     },
     "metadata": {},
     "output_type": "display_data"
    }
   ],
   "source": [
    "%%HTML\n",
    "<!-- Mejorar visualización en proyector -->\n",
    "<style>\n",
    ".rendered_html {font-size: 1.2em; line-height: 150%;}\n",
    "div.prompt {min-width: 0ex; }\n",
    ".container {width:95% !important;}\n",
    "</style>"
   ]
  },
  {
   "cell_type": "markdown",
   "metadata": {},
   "source": [
    "<h1 style=\"text-align:center\">Clase 1: Introducción al ambiente de trabajo </h1>\n",
    "<h3 style=\"text-align:center\">ACUS099: Procesamiento digital de señales</h3>\n",
    "<p style=\"text-align:center\">Dr. Víctor Poblete <br>\n",
    "<a href=\"mailto:vpoblete@uach.cl\">vpoblete@uach.cl</a><br>\n",
    "<p style=\"text-align:center\">Esteban Vargas <br>\n",
    "<a href=\"mailto:vpoblete@uach.cl\">esteban.vargas01@alumnos.uach.cl</a><br><br>\n",
    "<a href=\"https://github.com/vpobleteacustica/ACUS099_Autumn_2024\">https://github.com/vpobleteacustica/ACUS099_Autumn_2024</a><br> \n",
    "<a href=\"http://www.acusticauach.cl\">www.acusticauach.cl</a><br>\n",
    "<a href=\"http://www.aumilab.cl\">www.aumilab.cl</a><br>"
   ]
  },
  {
   "cell_type": "markdown",
   "metadata": {},
   "source": [
    "## Indice \n",
    "+ [Python](#id1)\n",
    "    - [IPython](#id11)\n",
    "+ [Jupyter Notebook](#id2)\n",
    "    - [Celdas](#id21)\n",
    "    - [Celda de texto enriquecido en markdown](#id22)\n",
    "    - [En celda de código importando dinamicamente librerias](#id23)\n",
    "+ [Windows](#id3)\n",
    "    - [Python](#id31)\n",
    "    - [Jupyter Notebook](#id32)\n",
    "+ [Mac](#id4)\n",
    "    - [Python](#id41)\n",
    "    - [Jupyter Notebook](#id42)\n",
    "+ [Ubuntu](#id5)\n",
    "    - [Python](#id51)\n",
    "    - [Jupyter Notebook](#id52)"
   ]
  },
  {
   "cell_type": "markdown",
   "metadata": {},
   "source": [
    "## 1. Python<a name='id1'></a>.\n",
    "Python es un lenguaje de programación poderoso y fácil de aprender. Cuenta con estructuras de datos eficientes y de alto nivel y un enfoque simple pero efectivo a la programación orientada a objetos. La elegante sintaxis de Python y su tipado dinámico, junto con su naturaleza interpretada, hacen de éste un lenguaje ideal para scripting y desarrollo rápido de aplicaciones en diversas áreas y sobre la mayoría de las plataformas. Python además, es rico en librerías abiertas para computo científico: *[Numpy](http://www.numpy.org/)*, *[Scipy](https://www.scipy.org/)*, *Pandas*, y muchas más.\n",
    "\n",
    "Para esta asignatura se utilizará versiones >= 3.7.4 como lenguaje oficial."
   ]
  },
  {
   "cell_type": "markdown",
   "metadata": {},
   "source": [
    "## 1.1 IPython<a name='id11'></a>.\n",
    "+ Es una interfaz para Python mejorada.\n",
    "\n",
    "+ Interactive Python, o IPython, es un intérprete de Python que que incluye mejoras tales como autocompletación de path y módulos, acceso desde terminal a documentación y código fuente, así como también búsqueda histórica de comandos.\n",
    "\n",
    "+ IPython puede usarse desde terminal, o como notebook mediante **Jupyter.**"
   ]
  },
  {
   "cell_type": "markdown",
   "metadata": {},
   "source": [
    "***\n",
    "\n",
    "## 2. Jupyter Notebook<a name='id2'></a>.\n",
    "\n",
    "Jupyter Notebook (anteriormente IPython Notebooks) es un entorno informático interactivo basado en la web para crear documentos de Jupyter notebook. El término \"notebook\" puede hacer referencia coloquialmente a muchas entidades diferentes, principalmente la aplicación web Jupyter, el servidor web Jupyter Python o el formato de documento Jupyter según el contexto. Un documento de Jupyter Notebook es un documento que sigue un esquema versionado y que contiene una lista ordenada de celdas de entrada/salida que pueden contener código(usando Python en esta situacion), texto (usando Markdown), matemáticas(usando Latex), gráficos y texto enriquecidos, generalmente terminado con la extensión \".ipynb\".\n",
    "\n",
    "### Notebook nuevo:\n",
    "+ Cuando creamos un notebook nuevo, debemos tener presente que un notebook está organizado en celdas. "
   ]
  },
  {
   "cell_type": "markdown",
   "metadata": {},
   "source": [
    "## 2.1 Celdas<a name='id21'></a>.\n",
    "\n",
    "Existen dos tipos de celdas: celdas para markdown y celdas para código. Al presionar SHIFT+ENTER ejecutaremos los contenidos de una celda.\n",
    "\n",
    "> Las celdas Markdown contienen:\n",
    "> + 𝙼𝚊𝚛𝚔𝚍𝚘𝚠𝚗 \n",
    "> + HTML\n",
    "> + 𝙻𝚊𝚃𝚎𝚇 \n",
    "> + Texto\n",
    "> + Imágenes\n",
    "> + Videos\n",
    "> + Cualquier cosa que un navegador pueda entender.\n",
    "\n",
    "> El código en Python se escribe in celdas para código. Al presionar SHIFT+ENTER se ejecuta el código. La salida se muestra como se observa a continuación en la siguiente celda para código:"
   ]
  },
  {
   "cell_type": "code",
   "execution_count": 2,
   "metadata": {},
   "outputs": [
    {
     "data": {
      "text/plain": [
       "2"
      ]
     },
     "execution_count": 2,
     "metadata": {},
     "output_type": "execute_result"
    }
   ],
   "source": [
    "1+1"
   ]
  },
  {
   "cell_type": "markdown",
   "metadata": {},
   "source": [
    "> Vemos la salida de esa operación y un número que nos está indicando"
   ]
  },
  {
   "cell_type": "markdown",
   "metadata": {},
   "source": [
    "> ### Guión bajo"
   ]
  },
  {
   "cell_type": "code",
   "execution_count": 3,
   "metadata": {},
   "outputs": [
    {
     "data": {
      "text/plain": [
       "2"
      ]
     },
     "execution_count": 3,
     "metadata": {},
     "output_type": "execute_result"
    }
   ],
   "source": [
    "_"
   ]
  },
  {
   "cell_type": "markdown",
   "metadata": {},
   "source": [
    "> + El guión bajo está mostrando en esa variable el último resultado que hemos obtenido.\n",
    "\n",
    "> ### Ayuda "
   ]
  },
  {
   "cell_type": "code",
   "execution_count": 4,
   "metadata": {},
   "outputs": [],
   "source": [
    "?"
   ]
  },
  {
   "cell_type": "markdown",
   "metadata": {},
   "source": [
    "> ### Código Python para mostrar los primero diez números"
   ]
  },
  {
   "cell_type": "code",
   "execution_count": 5,
   "metadata": {},
   "outputs": [
    {
     "name": "stdout",
     "output_type": "stream",
     "text": [
      "1\n",
      "2\n",
      "3\n",
      "4\n",
      "5\n",
      "6\n",
      "7\n",
      "8\n",
      "9\n",
      "10\n"
     ]
    }
   ],
   "source": [
    "for n in range(1,11):\n",
    "    print(n)"
   ]
  },
  {
   "cell_type": "markdown",
   "metadata": {},
   "source": [
    "## 2.2 Celda de texto enriquecido en markdown<a name='id22'></a>.\n",
    "> *itálica*\n",
    "\n",
    "> **bold**\n",
    "\n",
    "> SI escribo algo así quedará con sangría...\n",
    "\n",
    "> + Lista de algo 1\n",
    "> + Lista de algo 2\n",
    "> + y una list más\n",
    "\n",
    "> 1. Algo aquí \n",
    "> 1. Otra cosa aquí\n",
    "> 1. y otra más\n",
    "\n",
    "> # Título 1\n",
    "> ## Título 2\n",
    "> ### Título 3\n",
    "\n",
    "> [ACUS099 Procesamiento digital de señales](https://github.com/vpobleteacustica/ACUS099-Procesamiento-digital-de-senales)\n",
    "\n",
    "> ### Regla de Bayes:\n",
    "$$\n",
    "\\begin{align*}\n",
    "P(y | x) = \\frac{P(x|y) P(y)}{P(x)} = \\frac{P(x|y) P(y)}{\\sum_{y\\in\\mathcal{Y}} P(x|y) P(y)}\n",
    "\\label{eq1}\n",
    "\\end{align*}\n",
    "$$"
   ]
  },
  {
   "cell_type": "code",
   "execution_count": 1,
   "metadata": {},
   "outputs": [
    {
     "data": {
      "image/jpeg": "[encoded data removed]",
      "text/html": [
       "\n",
       "        <iframe\n",
       "            width=\"400\"\n",
       "            height=\"300\"\n",
       "            src=\"https://www.youtube.com/embed/R90ciUoxcJU\"\n",
       "            frameborder=\"0\"\n",
       "            allowfullscreen\n",
       "            \n",
       "        ></iframe>\n",
       "        "
      ],
      "text/plain": [
       "<IPython.lib.display.YouTubeVideo at 0x10618de80>"
      ]
     },
     "execution_count": 1,
     "metadata": {},
     "output_type": "execute_result"
    }
   ],
   "source": [
    "from IPython.display import YouTubeVideo\n",
    "YouTubeVideo('R90ciUoxcJU')"
   ]
  },
  {
   "cell_type": "markdown",
   "metadata": {},
   "source": [
    "## 2.3 En celda de código importando dinamicamente librerias<a name='id23'></a>."
   ]
  },
  {
   "cell_type": "code",
   "execution_count": 7,
   "metadata": {},
   "outputs": [],
   "source": [
    "import numpy as np\n",
    "import matplotlib.pyplot as plt"
   ]
  },
  {
   "cell_type": "code",
   "execution_count": 8,
   "metadata": {},
   "outputs": [
    {
     "name": "stderr",
     "output_type": "stream",
     "text": [
      "/home/kasparov/.local/lib/python3.6/site-packages/ipykernel_launcher.py:8: UserWarning: In Matplotlib 3.3 individual lines on a stem plot will be added as a LineCollection instead of individual lines. This significantly improves the performance of a stem plot. To remove this warning and switch to the new behaviour, set the \"use_line_collection\" keyword argument to True.\n",
      "  \n"
     ]
    },
    {
     "data": {
      "text/plain": [
       "[None, None]"
      ]
     },
     "execution_count": 8,
     "metadata": {},
     "output_type": "execute_result"
    },
    {
     "data": {
      "image/png": "[encoded data removed]",
      "text/plain": [
       "<Figure size 432x288 with 1 Axes>"
      ]
     },
     "metadata": {
      "needs_background": "light"
     },
     "output_type": "display_data"
    }
   ],
   "source": [
    "fig,ax = plt.subplots()\n",
    "\n",
    "f  = 2.0   # Hz, frecuencia de una señal\n",
    "fs = 35.0 # Hz, frecuencia de muestreo o Nyquist ( >= 2*f) \n",
    "t  = np.arange(-1,1+1/fs,1/fs) # intervalo de muestras, simétrico por conveniencia.\n",
    "x  = np.sin(2*np.pi*f*t)\n",
    "x2 = np.sin(2*np.pi*f*t)\n",
    "markerline, stemlines, baseline = ax.stem(t,x,'k',markerfmt='ko')\n",
    "ax.plot(t,x2,'r')\n",
    "ax.set_xlabel('tiempo',fontsize=18)\n",
    "ax.set_ylabel('amplitud',fontsize=18)\n",
    "plt.setp(baseline, color='k', linewidth=2)"
   ]
  },
  {
   "cell_type": "code",
   "execution_count": 9,
   "metadata": {},
   "outputs": [
    {
     "name": "stdout",
     "output_type": "stream",
     "text": [
      "Help on built-in function arange in module numpy:\n",
      "\n",
      "arange(...)\n",
      "    arange([start,] stop[, step,], dtype=None)\n",
      "    \n",
      "    Return evenly spaced values within a given interval.\n",
      "    \n",
      "    Values are generated within the half-open interval ``[start, stop)``\n",
      "    (in other words, the interval including `start` but excluding `stop`).\n",
      "    For integer arguments the function is equivalent to the Python built-in\n",
      "    `range` function, but returns an ndarray rather than a list.\n",
      "    \n",
      "    When using a non-integer step, such as 0.1, the results will often not\n",
      "    be consistent.  It is better to use `numpy.linspace` for these cases.\n",
      "    \n",
      "    Parameters\n",
      "    ----------\n",
      "    start : number, optional\n",
      "        Start of interval.  The interval includes this value.  The default\n",
      "        start value is 0.\n",
      "    stop : number\n",
      "        End of interval.  The interval does not include this value, except\n",
      "        in some cases where `step` is not an integer and floating point\n",
      "        round-off affects the length of `out`.\n",
      "    step : number, optional\n",
      "        Spacing between values.  For any output `out`, this is the distance\n",
      "        between two adjacent values, ``out[i+1] - out[i]``.  The default\n",
      "        step size is 1.  If `step` is specified as a position argument,\n",
      "        `start` must also be given.\n",
      "    dtype : dtype\n",
      "        The type of the output array.  If `dtype` is not given, infer the data\n",
      "        type from the other input arguments.\n",
      "    \n",
      "    Returns\n",
      "    -------\n",
      "    arange : ndarray\n",
      "        Array of evenly spaced values.\n",
      "    \n",
      "        For floating point arguments, the length of the result is\n",
      "        ``ceil((stop - start)/step)``.  Because of floating point overflow,\n",
      "        this rule may result in the last element of `out` being greater\n",
      "        than `stop`.\n",
      "    \n",
      "    See Also\n",
      "    --------\n",
      "    numpy.linspace : Evenly spaced numbers with careful handling of endpoints.\n",
      "    numpy.ogrid: Arrays of evenly spaced numbers in N-dimensions.\n",
      "    numpy.mgrid: Grid-shaped arrays of evenly spaced numbers in N-dimensions.\n",
      "    \n",
      "    Examples\n",
      "    --------\n",
      "    >>> np.arange(3)\n",
      "    array([0, 1, 2])\n",
      "    >>> np.arange(3.0)\n",
      "    array([ 0.,  1.,  2.])\n",
      "    >>> np.arange(3,7)\n",
      "    array([3, 4, 5, 6])\n",
      "    >>> np.arange(3,7,2)\n",
      "    array([3, 5])\n",
      "\n"
     ]
    }
   ],
   "source": [
    "help(np.arange)"
   ]
  },
  {
   "cell_type": "markdown",
   "metadata": {},
   "source": [
    "***\n",
    "\n",
    "## 3. Windows<a name='id3'></a>\n",
    "En una primera instancia, verificar si tu ordenador ya cuenta con Python 3, para poder realizar este checkeo, debes ejecutar el siguiente comando Windows + R , al apretar estas teclas aparecerá la ventana de Ejecutar, donde simplemente escribimos CMD y pulsamos Enter o en Aceptar con lo que nos aparecerá la ventana de comandos.\n",
    "\n",
    "En esta ventana debemos escribir lo siguiente"
   ]
  },
  {
   "cell_type": "markdown",
   "metadata": {},
   "source": [
    "```\n",
    "python --version\n",
    "```\n",
    "o \n",
    "```\n",
    "python3 --version\n",
    "```\n",
    "Si obtiene una respuesta favorable, es decir, el sistema le arroja la version de Python y es mayor a la anteriormente utilizada, favor dirigirse a la sección 3.2.<a name='id32'></a>"
   ]
  },
  {
   "cell_type": "markdown",
   "metadata": {},
   "source": [
    "De lo contrario debe seguir a continuación.\n",
    "\n",
    "### 3.1. Python<a name='id31'></a>\n",
    "Primero comprueba si tu ordenador ejecuta la versión 32 bits de Windows o la de 64, en \"Tipo de sistema\" en la página de \"Acerca de\":\n",
    "\n",
    "Presiona la tecla de Windows y la tecla Pause/Break al mismo tiempo. Abre el Panel de Control desde el menú de Windows, después accede a Sistema & y Seguridad, luego a Sistema.Presiona el botón de Windows, luego accede a Configuración > Sistema > Acerca de.\n",
    "Puedes descargar Python para Windows desde la siguiente web <a href=\"https://www.python.org/downloads/windows/\">https://www.python.org/downloads/windows/</a>. Clickea en el enlace \"Latest Python 3 Release -Python x.x.x\". Si tu ordenador ejecuta la versión de 64 bits de Windows, descarga Windows x86-64 executable installer. De lo contrario, descarga Windows x86 executable installer. Después de descargar el instalador, deberías ejecutarlo (dándole doble click) y seguir las instrucciones.\n",
    "\n",
    "Una cosa para tener en cuenta: Durante la instalación, verás una ventana de \"Setup\". Asegúrate de marcar las casillas \"Add Python 3.8 to PATH\" o \"Add Python to your environment variables\" y hacer click en \"Install Now\".\n",
    "\n",
    "Verifica si la instalación fue exitosa abriendo una terminal o consola, y corriendo el comando python3:\n"
   ]
  },
  {
   "cell_type": "markdown",
   "metadata": {},
   "source": [
    "```\n",
    "Input: python3 --version\n",
    "Python 3.8.2\n",
    "```\n",
    "\n",
    "Tambien verificar que la herramienta PIP tambien haya sido instalada, de la misma manera en que se verificó python:\n",
    "\n",
    "```\n",
    "Input: pip3 --version\n",
    "pip 20.0.2 from .../Library/Python/3.8/lib/python/site-packages/pip (python 3.8)\n",
    "```"
   ]
  },
  {
   "cell_type": "markdown",
   "metadata": {},
   "source": [
    "### 3.2. Jupyter Notebook<a name='id32'></a>\n",
    "Para poder instalar jupyter se debe tener como requisito el tener Python ya instalado, luego de este paso haya sido realizado se debe abrir la consola de comandos y realizar lo siquiente:\n",
    "\n",
    "```\n",
    "Input: pip3 install notebook --user\n",
    "```\n",
    "\n",
    "Luego de que se haya instalado, ejecutar la siguiente linea para verificar que la instalación fue exitosa:\n",
    "Input: jupyter notebook\n",
    "\n",
    "```\n",
    "Al ejecutar esta linea se te deberia abrir una pestaña de tu navegador predeterminado con la plataforma *Jupyter Notebook* \n",
    "\n",
    "***"
   ]
  },
  {
   "cell_type": "markdown",
   "metadata": {},
   "source": [
    "## 4 Mac<a name='id4'></a>\n",
    "\n",
    "Para abrir la terminal de MacOS haz clic en el icono \"Finder\" situado en el Dock, luego selecciona \"Aplicaciones > Utilidades\"\n",
    "Finalmente dale doble clic al icono \"Terminal\".\n",
    "\n",
    "Verificar versión con la que se cuenta en su ordenador con la siguiente linea en terminal:\n",
    "\n",
    "```\n",
    "python --version\n",
    "```\n",
    "o \n",
    "```\n",
    "python3 --version\n",
    "```\n",
    "Si cumple con los requisitos mencionados en 1.<a name='id1'></a> dirigirse a la sección 4.2.<a name='id42'></a>\n",
    "\n",
    "De lo contrario, para este sistema operativo se necesita instalar una herramienta llamada *Homebrew* cuya finalidad es ser un proveedor e instalador de herramientas y programas.\n",
    "\n",
    "El gestor de paquetes se obtiene en <a href=\"https://brew.sh/index_es\">https://brew.sh/index_es</a>., las instrucciones de su instalación se encuentran claramente pauteadas en el enlace."
   ]
  },
  {
   "cell_type": "markdown",
   "metadata": {},
   "source": [
    "### 4.1. Python<a name='id41'></a>\n",
    "Una vez ya instalado *Homebrew* se procede a utilizarlo, en la terminal de su computador con la siguiente linea:\n",
    "\n",
    "```\n",
    "brew install python3\n",
    "```\n",
    "luego que ya se haya ejecutado la linea anterior se  procede a verificar su instalacion, nuevamente con la linea: \n",
    "\n",
    "```\n",
    "python3 --version\n",
    "```\n",
    "\n",
    "    NOTA: brew busca la version de python3 mas reciente y mas estable de las presentes en la red"
   ]
  },
  {
   "cell_type": "markdown",
   "metadata": {},
   "source": [
    "### 4.2. Jupyter Notebook<a name='id42'></a>\n",
    "\n",
    "Para poder instalar jupyter se debe tener como requisito el tener Python ya instalado, luego de este paso haya sido realizado se debe abrir la consola de comandos y realizar lo siquiente:\n",
    "\n",
    "```\n",
    "Input: pip3 install notebook --user\n",
    "```\n",
    "\n",
    "Luego de que se haya instalado, ejecutar la siguiente linea para verificar que la instalación fue exitosa:\n",
    "\n",
    "```\n",
    "Input: jupyter notebook\n",
    "```\n",
    "Al ejecutar esta linea se te deberia abrir una pestaña de tu navegador predeterminado con la plataforma *Jupyter Notebook* \n",
    "\n",
    "***"
   ]
  },
  {
   "cell_type": "markdown",
   "metadata": {},
   "source": [
    "## 5 Ubuntu<a name='id5'></a>\n",
    "\n",
    "Para este sistema operativo la instalación es más sencilla, ya que este depende sólo de su terminal.\n"
   ]
  },
  {
   "cell_type": "markdown",
   "metadata": {},
   "source": [
    "### 5.1. Python<a name='id51'></a>\n",
    "Instalar Python se debe realizar en la terminal y con el gestor de paquetes llamado 'apt-get' que viene por defecto en tu computadora.\n",
    "Las lineas para obtener el lenguaje son las siguientes:\n",
    "\n",
    "```\n",
    "sudo apt update\n",
    "sudo apt install software-properties-common\n",
    "sudo apt install python3.8\n",
    "```\n",
    "Una vez realizadas estas lineas verificar que la instalación de estas haya sido correcta, con la siguiente linea:\n",
    "\n",
    "```\n",
    "Input:python3 --version\n",
    "Python 3.8.2\n",
    "```"
   ]
  },
  {
   "cell_type": "markdown",
   "metadata": {},
   "source": [
    "### 5.2. Jupyter Notebook<a name='id52'></a>\n",
    "\n",
    "Para poder instalar jupyter se debe tener como requisito el tener Python ya instalado, luego de este paso haya sido realizado se debe abrir la consola de comandos y realizar lo siquiente:\n",
    "\n",
    "```\n",
    "Input: pip3 install notebook --user\n",
    "```\n",
    "\n",
    "Luego de que se haya instalado, ejecutar la siguiente linea para verificar que la instalación fue exitosa:\n",
    "\n",
    "```\n",
    "Input: jupyter notebook\n",
    "```\n",
    "Al ejecutar esta linea se te deberia abrir una pestaña de tu navegador predeterminado con la plataforma *Jupyter Notebook* \n",
    "\n",
    "***"
   ]
  },
  {
   "cell_type": "markdown",
   "metadata": {},
   "source": [
    "## Bibliografía\n",
    "\n",
    "<a href=\"http://docs.python.org.ar/tutorial/3/real-index.html\">http://docs.python.org.ar/tutorial/3/real-index.html</a>.\n",
    "\n",
    "<a href=\"https://tutorial.djangogirls.org/es/python_installation/\">https://tutorial.djangogirls.org/es/python_installation/</a>.\n",
    "\n",
    "<a href=\"https://jupyter.org/install\">https://jupyter.org/install</a>."
   ]
  }
 ],
 "metadata": {
  "kernelspec": {
   "display_name": "acus099_2024",
   "language": "python",
   "name": "acus099_2024"
  },
  "language_info": {
   "codemirror_mode": {
    "name": "ipython",
    "version": 3
   },
   "file_extension": ".py",
   "mimetype": "text/x-python",
   "name": "python",
   "nbconvert_exporter": "python",
   "pygments_lexer": "ipython3",
   "version": "3.8.10"
  }
 },
 "nbformat": 4,
 "nbformat_minor": 4
}
