{
 "cells": [
  {
   "cell_type": "code",
   "execution_count": null,
   "metadata": {
    "ExecuteTime": {
     "end_time": "2020-07-31T14:47:00.161747Z",
     "start_time": "2020-07-31T14:47:00.132636Z"
    }
   },
   "outputs": [],
   "source": [
    "%%HTML\n",
    "<!-- Mejorar visualización en proyector -->\n",
    "<style>\n",
    ".rendered_html {font-size: 1.2em; line-height: 150%;}\n",
    "div.prompt {min-width: 0ex; padding: 0px;}\n",
    ".container {width:95% !important;}\n",
    "</style>"
   ]
  },
  {
   "cell_type": "markdown",
   "metadata": {},
   "source": [
    "***\n",
    "# Ayudantía 07\n",
    "## ACUS099- Procesamiento digital de señales\n",
    "### 7 de Mayo\n",
    "#####  Spectral Density\n",
    "Profesor: Dr. Victor Poblete R.\n",
    "\n",
    "Ayudante: Diego Espejo A.\n",
    "***"
   ]
  },
  {
   "cell_type": "markdown",
   "metadata": {},
   "source": [
    "### Cortando en Frames: Ventaneo\n"
   ]
  },
  {
   "cell_type": "markdown",
   "metadata": {},
   "source": [
    "La transformada discreta de Fourier en tiempo corto (STDFT), se realiza por trozos del audio a analizar, estos trozos normalmentes son traslapados unos con otros para reducir irregularidades en la frontera."
   ]
  },
  {
   "cell_type": "code",
   "execution_count": null,
   "metadata": {
    "ExecuteTime": {
     "end_time": "2020-07-31T14:47:05.480475Z",
     "start_time": "2020-07-31T14:47:00.370635Z"
    }
   },
   "outputs": [],
   "source": [
    "import ipywidgets as widgets\n",
    "from ipywidgets import interact\n",
    "import matplotlib.pyplot as plt\n",
    "import matplotlib\n",
    "import librosa as lib\n",
    "import numpy as np\n",
    "import pandas as pd\n",
    "from scipy import signal, fftpack\n",
    "%matplotlib notebook"
   ]
  },
  {
   "cell_type": "markdown",
   "metadata": {},
   "source": [
    "#### Ejemplo Basico"
   ]
  },
  {
   "cell_type": "markdown",
   "metadata": {},
   "source": [
    "Tenemos un vector de 1 a 10 el cual deseamos realizarle una STDFT, para eso le realizamos un ventaneo con un traslape al 50% lo cual se traduce en lo siguiente"
   ]
  },
  {
   "cell_type": "code",
   "execution_count": null,
   "metadata": {
    "ExecuteTime": {
     "end_time": "2020-07-31T14:47:05.490279Z",
     "start_time": "2020-07-31T14:47:05.483095Z"
    }
   },
   "outputs": [],
   "source": [
    "A = np.arange(1, 11)\n",
    "A"
   ]
  },
  {
   "cell_type": "markdown",
   "metadata": {},
   "source": [
    "![texto_alternativo_imagen](Whiteboard.png)"
   ]
  },
  {
   "cell_type": "markdown",
   "metadata": {},
   "source": [
    "#### Ejemplo con una señal real"
   ]
  },
  {
   "cell_type": "markdown",
   "metadata": {},
   "source": [
    "##### Ingreso de señal"
   ]
  },
  {
   "cell_type": "code",
   "execution_count": null,
   "metadata": {
    "ExecuteTime": {
     "end_time": "2020-07-31T14:47:05.534001Z",
     "start_time": "2020-07-31T14:47:05.496116Z"
    }
   },
   "outputs": [],
   "source": [
    "sig, fs = lib.load('MON_20200109_070000.wav',\n",
    "                   sr=44100, offset=140, duration=15)"
   ]
  },
  {
   "cell_type": "markdown",
   "metadata": {},
   "source": [
    "##### Fijar valores para ventaneo"
   ]
  },
  {
   "cell_type": "code",
   "execution_count": null,
   "metadata": {
    "ExecuteTime": {
     "end_time": "2020-07-31T14:47:05.552170Z",
     "start_time": "2020-07-31T14:47:05.537794Z"
    }
   },
   "outputs": [],
   "source": [
    "N = 2048\n",
    "tras_percent = 0.5\n",
    "n_tras = int(0.5*N)\n",
    "n_ventanas = int(np.around(len(sig)/(N-n_tras), 0))"
   ]
  },
  {
   "cell_type": "markdown",
   "metadata": {},
   "source": [
    "##### Zero padding"
   ]
  },
  {
   "cell_type": "code",
   "execution_count": null,
   "metadata": {
    "ExecuteTime": {
     "end_time": "2020-07-31T14:47:05.900443Z",
     "start_time": "2020-07-31T14:47:05.562114Z"
    }
   },
   "outputs": [],
   "source": [
    "zero_pad = n_tras*(n_ventanas+1)\n",
    "sig_pad = np.zeros(zero_pad)\n",
    "for i in range(len(sig)):\n",
    "    sig_pad[i] = sig[i]"
   ]
  },
  {
   "cell_type": "markdown",
   "metadata": {},
   "source": [
    "##### Ventaneo"
   ]
  },
  {
   "cell_type": "code",
   "execution_count": null,
   "metadata": {
    "ExecuteTime": {
     "end_time": "2020-07-31T14:47:05.934296Z",
     "start_time": "2020-07-31T14:47:05.904260Z"
    },
    "scrolled": true
   },
   "outputs": [],
   "source": [
    "m = np.zeros((N, n_ventanas))\n",
    "for i in range(n_ventanas):\n",
    "    m[:, i] = sig_pad[i*n_tras:N+n_tras*i]"
   ]
  },
  {
   "cell_type": "markdown",
   "metadata": {},
   "source": [
    "#####  Hamming"
   ]
  },
  {
   "cell_type": "code",
   "execution_count": null,
   "metadata": {
    "ExecuteTime": {
     "end_time": "2020-07-31T14:47:05.981155Z",
     "start_time": "2020-07-31T14:47:05.936743Z"
    }
   },
   "outputs": [],
   "source": [
    "hamm = signal.hamming(N)  # hamming o hanning o kaiser\n",
    "for j in range(n_ventanas):\n",
    "    m[:, j] = m[:, j]*hamm"
   ]
  },
  {
   "cell_type": "markdown",
   "metadata": {},
   "source": [
    "#####  FFT"
   ]
  },
  {
   "cell_type": "code",
   "execution_count": null,
   "metadata": {
    "ExecuteTime": {
     "end_time": "2020-07-31T14:47:05.995764Z",
     "start_time": "2020-07-31T14:47:05.985182Z"
    }
   },
   "outputs": [],
   "source": [
    "def mag_cuad(x):\n",
    "    A = fftpack.fft(m[:, x], N)\n",
    "    freq = np.linspace(0, fs/2, len(A)//2)\n",
    "    response = 1.0/N * np.abs(A[:N//2])**2\n",
    "    db_response = 10*np.log10(response)\n",
    "    return freq, db_response\n",
    "\n",
    "\n",
    "def response_peaks(freq, db_response):\n",
    "    peaks, _ = signal.find_peaks(db_response)\n",
    "    freq_peaks = np.zeros(len(peaks))\n",
    "    db_peaks = np.zeros(len(peaks))\n",
    "    for i in range(len(peaks)):\n",
    "        v = peaks[i]\n",
    "        freq_peaks[i] = freq[v]\n",
    "        db_peaks[i] = db_response[v]\n",
    "    return freq_peaks, db_peaks"
   ]
  },
  {
   "cell_type": "code",
   "execution_count": null,
   "metadata": {
    "ExecuteTime": {
     "end_time": "2020-07-31T14:47:06.014936Z",
     "start_time": "2020-07-31T14:47:06.000546Z"
    },
    "scrolled": false
   },
   "outputs": [],
   "source": [
    "def plot_sd(x):\n",
    "\n",
    "    freq, db_response = mag_cuad(x)\n",
    "    freq_peaks, db_peaks = response_peaks(freq, db_response)\n",
    "    fig, ax = plt.subplots(figsize=(9, 4), tight_layout=True)\n",
    "    ax.plot(freq, db_response)\n",
    "    ax.plot(freq_peaks, db_peaks, 'x')\n",
    "    ax.set_title('Frame $'+str(x+1)+'$')\n",
    "    ax.set_ylabel('Magnitud Cuadratica (dB)')\n",
    "    ax.set_xlabel('Frecuencia (Hz)')\n",
    "    ax.set_xlim(20, 20000)\n",
    "    ax.set_xscale('symlog')\n",
    "    plt.setp(ax.get_xticklabels(), rotation=45, ha=\"right\",\n",
    "             rotation_mode=\"anchor\")\n",
    "    ax.set_xticks([31, 63, 125, 250, 500, 1000, 2000, 4000, 8000, 16000])\n",
    "    ax.get_xaxis().set_major_formatter(matplotlib.ticker.ScalarFormatter())\n",
    "    ax.grid('on')\n",
    "    fig.show()"
   ]
  },
  {
   "cell_type": "code",
   "execution_count": null,
   "metadata": {
    "ExecuteTime": {
     "end_time": "2020-07-31T14:47:06.176034Z",
     "start_time": "2020-07-31T14:47:06.018663Z"
    },
    "scrolled": false
   },
   "outputs": [],
   "source": [
    "interact(plot_sd, x=widgets.IntSlider(\n",
    "    min=0, max=n_ventanas-1, step=1, value=100))"
   ]
  }
 ],
 "metadata": {
  "kernelspec": {
   "display_name": "Python 3",
   "language": "python",
   "name": "python3"
  },
  "language_info": {
   "codemirror_mode": {
    "name": "ipython",
    "version": 3
   },
   "file_extension": ".py",
   "mimetype": "text/x-python",
   "name": "python",
   "nbconvert_exporter": "python",
   "pygments_lexer": "ipython3",
   "version": "3.6.10"
  },
  "latex_envs": {
   "LaTeX_envs_menu_present": true,
   "autoclose": true,
   "autocomplete": true,
   "bibliofile": "biblio.bib",
   "cite_by": "apalike",
   "current_citInitial": 1,
   "eqLabelWithNumbers": true,
   "eqNumInitial": 1,
   "hotkeys": {
    "equation": "Ctrl-E",
    "itemize": "Ctrl-I"
   },
   "labels_anchors": false,
   "latex_user_defs": false,
   "report_style_numbering": true,
   "user_envs_cfg": true
  },
  "toc": {
   "base_numbering": 1,
   "nav_menu": {},
   "number_sections": true,
   "sideBar": true,
   "skip_h1_title": false,
   "title_cell": "Table of Contents",
   "title_sidebar": "Contents",
   "toc_cell": false,
   "toc_position": {},
   "toc_section_display": true,
   "toc_window_display": false
  }
 },
 "nbformat": 4,
 "nbformat_minor": 4
}
