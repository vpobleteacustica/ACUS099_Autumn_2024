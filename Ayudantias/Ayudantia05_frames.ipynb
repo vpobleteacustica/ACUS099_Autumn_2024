{
 "cells": [
  {
   "cell_type": "code",
   "execution_count": 1,
   "metadata": {
    "ExecuteTime": {
     "end_time": "2020-07-09T22:15:51.110173Z",
     "start_time": "2020-07-09T22:15:51.093504Z"
    }
   },
   "outputs": [
    {
     "data": {
      "text/html": [
       "<!-- Mejorar visualización en proyector -->\n",
       "<style>\n",
       ".rendered_html {font-size: 1.2em; line-height: 150%;}\n",
       "div.prompt {min-width: 0ex; padding: 0px;}\n",
       ".container {width:95% !important;}\n",
       "</style>\n"
      ],
      "text/plain": [
       "<IPython.core.display.HTML object>"
      ]
     },
     "metadata": {},
     "output_type": "display_data"
    }
   ],
   "source": [
    "%%HTML\n",
    "<!-- Mejorar visualización en proyector -->\n",
    "<style>\n",
    ".rendered_html {font-size: 1.2em; line-height: 150%;}\n",
    "div.prompt {min-width: 0ex; padding: 0px;}\n",
    ".container {width:95% !important;}\n",
    "</style>"
   ]
  },
  {
   "cell_type": "markdown",
   "metadata": {},
   "source": [
    "***\n",
    "# Ayudantía 05\n",
    "## ACUS099- Procesamiento digital de señales\n",
    "### 7 de Mayo\n",
    "#####  Frames\n",
    "Profesor: Dr. Victor Poblete R.\n",
    "\n",
    "Ayudante: Diego Espejo A.\n",
    "***"
   ]
  },
  {
   "cell_type": "markdown",
   "metadata": {},
   "source": [
    "### Fechas para evaluaciones"
   ]
  },
  {
   "cell_type": "markdown",
   "metadata": {},
   "source": [
    "De acuerdo a lo conversado el dia jueves 9 de Julio, se realizarán votaciones mediante el canal `ACUS099señales` de Slack desde el jueves a las 14:00 hasta el lunes a las 11:00.\n",
    " ##### Evaluacion Teorica: Fourier\n",
    " - Posibles fechas:\n",
    "     + Jueves 23 de Julio\n",
    "     + Lunes 27 de Julio\n",
    "     \n",
    "     \n",
    " ##### Trabajo Final\n",
    " - Posibles Fechas:\n",
    "     + Viernes 7 de Agosto\n",
    "     + Viernes 14 de Agosto"
   ]
  },
  {
   "cell_type": "markdown",
   "metadata": {
    "heading_collapsed": true
   },
   "source": [
    "### Cortando en Frames: Ventaneo\n"
   ]
  },
  {
   "cell_type": "markdown",
   "metadata": {
    "hidden": true
   },
   "source": [
    "La transformada discreta de Fourier en tiempo corto (STDFT), se realiza por trozos del audio a analizar, estos trozos normalmentes son traslapados unos con otros para reducir irregularidades en la frontera."
   ]
  },
  {
   "cell_type": "code",
   "execution_count": 2,
   "metadata": {
    "ExecuteTime": {
     "end_time": "2020-07-09T22:15:52.973339Z",
     "start_time": "2020-07-09T22:15:51.167551Z"
    },
    "hidden": true
   },
   "outputs": [],
   "source": [
    "import librosa as lib\n",
    "import numpy as np\n",
    "import pandas as pd"
   ]
  },
  {
   "cell_type": "markdown",
   "metadata": {
    "heading_collapsed": true,
    "hidden": true
   },
   "source": [
    "#### Ejemplo Basico"
   ]
  },
  {
   "cell_type": "markdown",
   "metadata": {
    "hidden": true
   },
   "source": [
    "Tenemos un vector de 1 a 10 el cual deseamos realizarle una STDFT, para eso le realizamos un ventaneo con un traslape al 50% lo cual se traduce en lo siguiente"
   ]
  },
  {
   "cell_type": "code",
   "execution_count": 4,
   "metadata": {
    "ExecuteTime": {
     "end_time": "2020-07-09T22:15:53.120063Z",
     "start_time": "2020-07-09T22:15:53.111020Z"
    },
    "hidden": true
   },
   "outputs": [
    {
     "data": {
      "text/plain": [
       "array([ 1,  2,  3,  4,  5,  6,  7,  8,  9, 10])"
      ]
     },
     "execution_count": 4,
     "metadata": {},
     "output_type": "execute_result"
    }
   ],
   "source": [
    "A=np.arange(1,11)\n",
    "A"
   ]
  },
  {
   "cell_type": "markdown",
   "metadata": {
    "hidden": true
   },
   "source": [
    "![texto_alternativo_imagen](Whiteboard.png)"
   ]
  },
  {
   "cell_type": "markdown",
   "metadata": {
    "heading_collapsed": true,
    "hidden": true
   },
   "source": [
    "#### Ejemplo con una señal real"
   ]
  },
  {
   "cell_type": "code",
   "execution_count": 5,
   "metadata": {
    "ExecuteTime": {
     "end_time": "2020-07-09T22:15:53.163879Z",
     "start_time": "2020-07-09T22:15:53.123951Z"
    },
    "hidden": true
   },
   "outputs": [],
   "source": [
    "sig,fs = lib.load('MON_20200109_070000.wav',sr=44100,offset=140,duration=15)"
   ]
  },
  {
   "cell_type": "code",
   "execution_count": 6,
   "metadata": {
    "ExecuteTime": {
     "end_time": "2020-07-09T22:15:53.173097Z",
     "start_time": "2020-07-09T22:15:53.167496Z"
    },
    "hidden": true
   },
   "outputs": [],
   "source": [
    "N=2048\n",
    "tras_percent=0.5\n",
    "n_tras = int(0.5*N)\n",
    "n_ventanas = int(np.around(len(sig)/n_tras,0))"
   ]
  },
  {
   "cell_type": "code",
   "execution_count": 7,
   "metadata": {
    "ExecuteTime": {
     "end_time": "2020-07-09T22:15:53.496153Z",
     "start_time": "2020-07-09T22:15:53.176224Z"
    },
    "hidden": true
   },
   "outputs": [],
   "source": [
    "zero_pad=n_tras*(n_ventanas+1)\n",
    "sig_pad = np.zeros(zero_pad)\n",
    "for i in range(len(sig)):\n",
    "    sig_pad[i]=sig[i]\n",
    "m = np.zeros((N,n_ventanas))"
   ]
  },
  {
   "cell_type": "code",
   "execution_count": 29,
   "metadata": {
    "ExecuteTime": {
     "end_time": "2020-07-09T23:58:15.301013Z",
     "start_time": "2020-07-09T23:58:15.279446Z"
    },
    "hidden": true,
    "scrolled": true
   },
   "outputs": [],
   "source": [
    "for i in range(n_ventanas):\n",
    "    m[:,i]=sig_pad[i*n_tras:N+n_tras*i]"
   ]
  },
  {
   "cell_type": "code",
   "execution_count": 30,
   "metadata": {
    "ExecuteTime": {
     "end_time": "2020-07-09T23:58:16.769650Z",
     "start_time": "2020-07-09T23:58:16.759551Z"
    },
    "hidden": true
   },
   "outputs": [
    {
     "data": {
      "text/plain": [
       "0       0.094421\n",
       "1       0.098297\n",
       "2       0.100891\n",
       "3       0.102524\n",
       "4       0.101364\n",
       "          ...   \n",
       "2043    0.000000\n",
       "2044    0.000000\n",
       "2045    0.000000\n",
       "2046    0.000000\n",
       "2047    0.000000\n",
       "Name: 645, Length: 2048, dtype: float64"
      ]
     },
     "execution_count": 30,
     "metadata": {},
     "output_type": "execute_result"
    }
   ],
   "source": [
    "pd.DataFrame(m)[n_ventanas-1]"
   ]
  },
  {
   "cell_type": "code",
   "execution_count": null,
   "metadata": {
    "hidden": true
   },
   "outputs": [],
   "source": []
  }
 ],
 "metadata": {
  "kernelspec": {
   "display_name": "Python 3",
   "language": "python",
   "name": "python3"
  },
  "language_info": {
   "codemirror_mode": {
    "name": "ipython",
    "version": 3
   },
   "file_extension": ".py",
   "mimetype": "text/x-python",
   "name": "python",
   "nbconvert_exporter": "python",
   "pygments_lexer": "ipython3",
   "version": "3.6.10"
  },
  "latex_envs": {
   "LaTeX_envs_menu_present": true,
   "autoclose": true,
   "autocomplete": true,
   "bibliofile": "biblio.bib",
   "cite_by": "apalike",
   "current_citInitial": 1,
   "eqLabelWithNumbers": true,
   "eqNumInitial": 1,
   "hotkeys": {
    "equation": "Ctrl-E",
    "itemize": "Ctrl-I"
   },
   "labels_anchors": false,
   "latex_user_defs": false,
   "report_style_numbering": true,
   "user_envs_cfg": true
  }
 },
 "nbformat": 4,
 "nbformat_minor": 4
}
