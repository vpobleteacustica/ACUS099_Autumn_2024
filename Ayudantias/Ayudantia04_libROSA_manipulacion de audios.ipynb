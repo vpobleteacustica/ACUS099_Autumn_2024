{
 "cells": [
  {
   "cell_type": "code",
   "execution_count": null,
   "metadata": {
    "ExecuteTime": {
     "end_time": "2020-07-02T17:15:11.512897Z",
     "start_time": "2020-07-02T17:15:11.498219Z"
    }
   },
   "outputs": [],
   "source": [
    "%%HTML\n",
    "<!-- Mejorar visualización en proyector -->\n",
    "<style>\n",
    ".rendered_html {font-size: 1.2em; line-height: 150%;}\n",
    "div.prompt {min-width: 0ex; padding: 0px;}\n",
    ".container {width:95% !important;}\n",
    "</style>"
   ]
  },
  {
   "cell_type": "markdown",
   "metadata": {},
   "source": [
    "***\n",
    "# Ayudantía 04\n",
    "## ACUS099- Procesamiento digital de señales\n",
    "### 7 de Mayo\n",
    "#####  libROSA: como extraer data de un(a) audio/señal\n",
    "Profesor: Dr. Victor Poblete R.\n",
    "\n",
    "Ayudante: Diego Espejo A.\n",
    "***"
   ]
  },
  {
   "cell_type": "markdown",
   "metadata": {},
   "source": [
    "### LibROSA\n",
    "[libROSA](https://librosa.org/librosa/0.6.2/index.html) es un paquete de python para análisis de música y audio. Proporciona los bloques de construcción necesarios para crear sistemas de recuperación de información musical. \n",
    "***"
   ]
  },
  {
   "cell_type": "code",
   "execution_count": null,
   "metadata": {
    "ExecuteTime": {
     "end_time": "2020-07-02T17:15:13.402505Z",
     "start_time": "2020-07-02T17:15:11.579183Z"
    }
   },
   "outputs": [],
   "source": [
    "import librosa as lib\n",
    "%matplotlib notebook\n",
    "from librosa import display\n",
    "import matplotlib.pyplot as plt\n",
    "import numpy as np"
   ]
  },
  {
   "cell_type": "markdown",
   "metadata": {},
   "source": [
    "comando para ver elementos en la carpeta contenedora del cuadernillo "
   ]
  },
  {
   "cell_type": "code",
   "execution_count": null,
   "metadata": {
    "ExecuteTime": {
     "end_time": "2020-07-02T17:15:13.538154Z",
     "start_time": "2020-07-02T17:15:13.406470Z"
    },
    "scrolled": true
   },
   "outputs": [],
   "source": [
    "!unzip MON_20200109_070000.zip\n",
    "!ls"
   ]
  },
  {
   "cell_type": "markdown",
   "metadata": {},
   "source": [
    "tomaremos 15 segundos del audio 'MON_20200109_070000.wav' desde 2:20, para ello utilizaremos la libreria libROSA, con su funcion `librosa.core.load()`"
   ]
  },
  {
   "cell_type": "code",
   "execution_count": null,
   "metadata": {
    "ExecuteTime": {
     "end_time": "2020-07-02T20:01:53.430550Z",
     "start_time": "2020-07-02T20:01:53.424286Z"
    },
    "scrolled": true
   },
   "outputs": [],
   "source": [
    "help(lib.load)"
   ]
  },
  {
   "cell_type": "code",
   "execution_count": null,
   "metadata": {
    "ExecuteTime": {
     "end_time": "2020-07-02T17:15:13.593510Z",
     "start_time": "2020-07-02T17:15:13.555625Z"
    }
   },
   "outputs": [],
   "source": [
    "sig,sr = lib.load('MON_20200109_070000.wav',sr=44100,offset=140,duration=15)"
   ]
  },
  {
   "cell_type": "markdown",
   "metadata": {},
   "source": [
    "si bien estamos extrayendo 15 segundos del audio, eso no significa que vayamos a tener un audio de largo 15, ya que el audio fue grabado a una frecuencia de muestreo de 44100hz, es decir `44100 muestras por segundo` lo que implica que el largo del vector es:"
   ]
  },
  {
   "cell_type": "code",
   "execution_count": null,
   "metadata": {
    "ExecuteTime": {
     "end_time": "2020-07-02T20:05:42.867663Z",
     "start_time": "2020-07-02T20:05:42.862419Z"
    }
   },
   "outputs": [],
   "source": [
    "print(15*44100,'muestras')"
   ]
  },
  {
   "cell_type": "code",
   "execution_count": null,
   "metadata": {
    "ExecuteTime": {
     "end_time": "2020-07-02T20:05:56.845206Z",
     "start_time": "2020-07-02T20:05:56.838295Z"
    }
   },
   "outputs": [],
   "source": [
    "len_sig = len(sig)\n",
    "len_sig_sec = int(lib.get_duration(sig, sr))\n",
    "print(len_sig)\n",
    "print(len_sig_sec)"
   ]
  },
  {
   "cell_type": "code",
   "execution_count": null,
   "metadata": {
    "ExecuteTime": {
     "end_time": "2020-07-02T17:15:13.798794Z",
     "start_time": "2020-07-02T17:15:13.723918Z"
    },
    "scrolled": true
   },
   "outputs": [],
   "source": [
    "plt.figure(figsize=(9, 5))\n",
    "display.waveplot(sig, sr)\n",
    "plt.ylim(-1, 1)\n",
    "plt.title('9 enero 7:00am')\n",
    "plt.suptitle('Parque Urbano')\n",
    "plt.ylabel('Amplitude')"
   ]
  },
  {
   "cell_type": "markdown",
   "metadata": {},
   "source": [
    "### Calculo de matriz D"
   ]
  },
  {
   "cell_type": "markdown",
   "metadata": {},
   "source": [
    "#### STFT\n",
    "Transformada de fourier en periodos cortos (*Short time fourier transform*)\n",
    "posee parte real la cual es la magnitud y la parte imaginaria que corresponde a la fase.\n",
    "\n",
    "Para efectos practicos, en esta ayudantia se obviará la fase, al sacar el valor absoluto de la transformada."
   ]
  },
  {
   "cell_type": "markdown",
   "metadata": {},
   "source": [
    "#### Amplitud hacia dB\n",
    "Luego el traspaso de amplitud a decibel, se realizará de la siguiente manera:\n",
    "\\begin{align}\n",
    "dB_{i,j}=10\\log_{10}\\frac{A_{i,j}^{2}}{A^{2}_{max}}\n",
    "\\end{align}\n",
    "Donde:\n",
    "+ ${dB}_{i,j}$ es el elemento resultante de este proceso expresado en *dB* \n",
    "+ $A_{i,j}$ es cada elemento de la matriz obtenida a traves de la *STFT* \n",
    "+ $A_{max}$ es el maximo valor presente en la matriz"
   ]
  },
  {
   "cell_type": "code",
   "execution_count": null,
   "metadata": {
    "ExecuteTime": {
     "end_time": "2020-07-02T17:15:14.195816Z",
     "start_time": "2020-07-02T17:15:13.803561Z"
    },
    "scrolled": false
   },
   "outputs": [],
   "source": [
    "plt.figure(figsize=(9, 5))\n",
    "D = lib.amplitude_to_db(np.abs(lib.stft(sig)), ref=np.max)\n",
    "display.specshow(D, y_axis='linear',sr=sr)\n",
    "plt.colorbar(format='%+2.0f dB')\n",
    "plt.title('Linear-frequency power spectrogram');"
   ]
  },
  {
   "cell_type": "code",
   "execution_count": null,
   "metadata": {
    "ExecuteTime": {
     "end_time": "2020-07-02T17:15:14.545212Z",
     "start_time": "2020-07-02T17:15:14.199202Z"
    }
   },
   "outputs": [],
   "source": [
    "plt.figure(figsize=(9,5))\n",
    "display.specshow(D, y_axis='log',cmap='gray_r',x_axis='time',sr=sr,fmin=20)\n",
    "plt.colorbar(format='%+2.0f dB')\n",
    "plt.title('Log-frequency power spectrogram');"
   ]
  }
 ],
 "metadata": {
  "kernelspec": {
   "display_name": "Python 3",
   "language": "python",
   "name": "python3"
  },
  "language_info": {
   "codemirror_mode": {
    "name": "ipython",
    "version": 3
   },
   "file_extension": ".py",
   "mimetype": "text/x-python",
   "name": "python",
   "nbconvert_exporter": "python",
   "pygments_lexer": "ipython3",
   "version": "3.6.10"
  },
  "latex_envs": {
   "LaTeX_envs_menu_present": true,
   "autoclose": true,
   "autocomplete": true,
   "bibliofile": "biblio.bib",
   "cite_by": "apalike",
   "current_citInitial": 1,
   "eqLabelWithNumbers": true,
   "eqNumInitial": 1,
   "hotkeys": {
    "equation": "Ctrl-E",
    "itemize": "Ctrl-I"
   },
   "labels_anchors": false,
   "latex_user_defs": false,
   "report_style_numbering": true,
   "user_envs_cfg": true
  }
 },
 "nbformat": 4,
 "nbformat_minor": 4
}
